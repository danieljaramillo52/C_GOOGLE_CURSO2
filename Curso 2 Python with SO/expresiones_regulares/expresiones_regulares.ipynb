{
 "cells": [
  {
   "cell_type": "markdown",
   "id": "89446fdc",
   "metadata": {},
   "source": [
    "## EXPRESIONES REGULARES\n",
    "\n",
    "Expresiones que sirven para la busqueda de patrones en un texto por medio del uso de \"cadenas especificas\"."
   ]
  },
  {
   "cell_type": "markdown",
   "id": "ba376c2f",
   "metadata": {},
   "source": [
    "### **Log de ejemplo 1.** procedimiento manual. "
   ]
  },
  {
   "cell_type": "code",
   "execution_count": null,
   "id": "65025038",
   "metadata": {},
   "outputs": [
    {
     "name": "stdout",
     "output_type": "stream",
     "text": [
      "12345\n"
     ]
    }
   ],
   "source": [
    "log = \"July 31 07:51:48 mycomputer bad_process[12345]: ERROR Performing package upgrade\"\n",
    "\n",
    "# Tenemos un mensaje que sale en un log. Nuestro interes es extraer partes de el mensaje. \n",
    "\n",
    "index = log.index(\"[\")\n",
    "\n",
    "\"\"\"De manera manual extraemos la posición índice del caracter \"[\"\n",
    "Al conocer con exactitud donde está el número que queremos extraer podemos:\n",
    "recorrer la cadena desde esta posición hasta 5 indices más. Logrando extraer el número. \n",
    "\"\"\"\n",
    "print(log[index+1:index+6])\n"
   ]
  },
  {
   "cell_type": "markdown",
   "id": "c6110e8b",
   "metadata": {},
   "source": [
    "## Utilizando el módulo de expresiones regulares"
   ]
  },
  {
   "cell_type": "code",
   "execution_count": 15,
   "id": "7803bc66",
   "metadata": {},
   "outputs": [
    {
     "name": "stdout",
     "output_type": "stream",
     "text": [
      "12345\n"
     ]
    }
   ],
   "source": [
    "import re\n",
    "\n",
    "log = \"July 31 07:51:48 mycomputer bad_process[12345]: ERROR Performing package upgrade\"\n",
    "\n",
    "# Podemos notar como usamos un patron de busqueda. \n",
    "regex = r\"\\[(\\d+)\\]\"\n",
    "\n",
    "# Utilizamos la función de busqueda, le pasamos el argumento y la cadena. \n",
    "\n",
    "result = re.search(regex, log)\n",
    "\n",
    "# result es un tipo de objeto re.Match\n",
    "\"\"\"\n",
    "<re.Match object; span=(39, 46), match='[12345]'>\n",
    "\n",
    "la función re.search() devuelve un objeto Match porque el registro de cadenas contiene una coincidencia con la expresión regular. El objeto Match tiene un método group() que devuelve los grupos capturados de la coincidencia. En este caso, el único grupo capturado es el número, que es devuelto por la expresión result[1].\n",
    "\"\"\"\n",
    "\n",
    "print(result[1])"
   ]
  },
  {
   "cell_type": "markdown",
   "id": "bc971bc1",
   "metadata": {},
   "source": [
    "## Desglose expresión regular\n",
    "\n",
    "> r\"\\[(\\d+)\\]\"\n",
    "\n",
    "r\"\" : Hace referencia a un \"raw string\" , permite que los caracteres (\\n, \\t, \\\\, etc.) no se interpretan, sino que se pasan \"crudos\" directamente a la expresión regular.\n",
    "\n",
    "🔹 Qué pasa con un string normal en Python\n",
    "\n",
    "En Python, al escribir un string sin la r, Python primero interpreta los caracteres de escape antes de pasarlos a la expresión regular.\n",
    "\n",
    "s = \"\\n\"    \n",
    "\n",
    "Python interpreta esto como un salto de línea\n",
    "print(s)    :  Salto de línea, no ves \"\\n\"\n",
    "\n",
    "\n",
    "Si intentas hacer una regex con:\n",
    "\n",
    "regex = \"\\d+\"\n",
    "\n",
    "\n",
    "➡️ Python piensa: \\d no es un escape válido dentro de un string normal, así que lo trata como d.\n",
    "Es decir, la regex resultante es \"d+\", no “\\d+”.\n",
    "\n",
    "🔹 Qué pasa con un raw string\n",
    "\n",
    "Cuando agregas la r delante, Python no interpreta los escapes, sino que los deja tal cual están escritos.\n",
    "\n",
    "s = r\"\\n\"\n",
    "print(s)    # Se imprime \\n (dos caracteres: \\ y n)\n",
    "\n",
    "\n",
    "Si haces:\n",
    "\n",
    "regex = r\"\\d+\"\n",
    "\n",
    "\n",
    "➡️ Python envía al motor de regex exactamente el texto \\d+.\n",
    "El motor de regex sabe que \\d significa “dígito”, así que funciona como esperas.\n",
    "\n",
    "---\n",
    "\n",
    "➡️ **```2. \\[ \\]```**\n",
    "\n",
    "Los corchetes son caracteres especiales en regex, pero aquí se escapan con \\.\n",
    "\n",
    "\\[ significa un corchete abierto literal [\n",
    "\n",
    "\\] significa un corchete cerrado literal ]\n",
    "\n",
    "Por lo tanto, la expresión busca texto que esté entre corchetes.\n",
    "\n",
    "---\n",
    "\n",
    "➡️ **```3. (\\d+)```**\n",
    "\n",
    "Los paréntesis () forman un grupo de captura. Lo que coincida dentro de ellos se podrá recuperar aparte.\n",
    "\n",
    "\\d significa un dígito numérico (equivalente a [0-9]).\n",
    "\n",
    "+ significa uno o más dígitos.\n",
    "\n",
    "En conjunto, (\\d+) captura un número entero de cualquier longitud."
   ]
  },
  {
   "cell_type": "markdown",
   "id": "11a14bde",
   "metadata": {},
   "source": [
    "## **GREP** \n",
    "\n",
    "Herramienta clásica de Linux/Unix que sirve para buscar texto en archivos utilizando la linea de comandos.\n",
    "\n",
    "Podemos utilizar: \n",
    "\n",
    "```bash\n",
    "grep thon usr\\share\\dictwords\n",
    "```\n",
    "\n",
    "Utilizamos grep para en que palabras del archivo \"usr\\share\\dictwords\" aparece la cadena \"thon\"\n",
    "\n",
    "Retornará una lista de palabras que contienen esta cadena, y  con la cadena en cuestión  resaltada.\n",
    "\n",
    "Se puede utilizar el parámetro **-i** para que ignore distinción entre maysuculas y minusculas. \n",
    "\n",
    "```bash\n",
    "grep -i thon usr\\share\\dictwords\n",
    "```\n",
    "\n",
    "---\n",
    "\n",
    "### Busqueda por un patrón de \".\"\n",
    "\n",
    "Permite que conincida con cualquier cosa por lo tanto: \n",
    "\n",
    "```bash\n",
    "grep l.rts usr\\share\\dictwords\n",
    "```\n",
    "\n",
    "Nos puede traer un número n de coincidencias (Palabras) donde el punto puede ser cualquier caracter: \n",
    "\n",
    "Ejm: \n",
    "```alerts``` => Vinede de : al.rts \n",
    "```blurts``` => Vinede de : bl.rts\n",
    "```flirts``` => Vinede de : fl.rts\n",
    "\n",
    "El punto en el patro fue sustituido por letras diferente. Nos permitió encontrar diferentes entradas sin conocer ninguna de estas palabras. Podemos usar estos patrones para buscar. \n",
    "\n",
    "---\n",
    "\n",
    "## **El circunflejo [^] y el símbolo del dólar [$] son caracteres de anclaje.**\n",
    "\n",
    "El circunflejo y el símbolo del dólar coinciden específicamente con el inicio y el final de una línea o cadena, pero no necesariamente con las palabras en sí.\n",
    "\n",
    "### Buscar todas las cadenas que comienzan por un patron \n",
    "\n",
    "Podemos utilizar: \n",
    "\n",
    "```bash\n",
    "grep ^fruit usr\\share\\dictwords\n",
    "```\n",
    "\n",
    "traera todas las palabras que comienzen por este patron.  Ejm:\n",
    "\n",
    "```fruit```ing |  ```fruit```ion  |  ```fruit```less \n",
    "\n",
    "---\n",
    "\n",
    "### Buscar todas las palabras que terminan por un patron \n",
    "\n",
    "Podemos utilizar: \n",
    "\n",
    "```bash\n",
    "grep cat$ usr\\share\\dictwords\n",
    "```\n",
    "\n",
    "traera todas las palabras que comienzen por este patron.  Ejm:\n",
    "\n",
    "copy```cat``` |  du```cat```  |  lot```cat```\n",
    "\n",
    "---"
   ]
  },
  {
   "cell_type": "markdown",
   "id": "e3b25512",
   "metadata": {},
   "source": [
    "---"
   ]
  },
  {
   "cell_type": "markdown",
   "id": "61f8951b",
   "metadata": {},
   "source": [
    "## **Emparejamiento simple en python**\n"
   ]
  },
  {
   "cell_type": "code",
   "execution_count": 18,
   "id": "1fc5d7cd",
   "metadata": {},
   "outputs": [
    {
     "name": "stdout",
     "output_type": "stream",
     "text": [
      "<re.Match object; span=(2, 5), match='aza'>\n"
     ]
    }
   ],
   "source": [
    "import re\n",
    "\n",
    "# Recordemos: Nos retorna un objeto re.Match que nos confirma la coincidencia, en caso contrario retorna None. \n",
    "\n",
    "result = re.search(r\"aza\", \"plaza\")\n",
    "print(result)"
   ]
  },
  {
   "cell_type": "code",
   "execution_count": null,
   "id": "c614b9f4",
   "metadata": {},
   "outputs": [
    {
     "name": "stdout",
     "output_type": "stream",
     "text": [
      "<re.Match object; span=(1, 4), match='aza'>\n"
     ]
    }
   ],
   "source": [
    "import re\n",
    "\n",
    "# Podemos notar que además el objeto re.Match retorna los indices poscionales donde está la primera coincidencia.  \n",
    "result = re.search(r\"aza\", \"bazaar del azar\")\n",
    "print(result)\n",
    "\n",
    "# <re.Match object; span=(1, 4), match='aza'> indices del 1 al 4 sin cerrado al principio abierto al final es decir:  (1,2,3) "
   ]
  },
  {
   "cell_type": "markdown",
   "id": "303ec791",
   "metadata": {},
   "source": [
    "#### Notemos que devolverá el patron de busqueda NO LA PALABRA QUE LO CONTIENE\n",
    "\n",
    "--- \n"
   ]
  },
  {
   "cell_type": "markdown",
   "id": "4acbcf45",
   "metadata": {},
   "source": [
    "## **Emparejamiento con reservados.**\n",
    "\n",
    "El funcionamiento de los simbolos reservados **```$```** , **```^```** y **```.```** es identico a como funcionan en la herramienta **```grep```**"
   ]
  },
  {
   "cell_type": "code",
   "execution_count": null,
   "id": "ba28fe1c",
   "metadata": {},
   "outputs": [
    {
     "name": "stdout",
     "output_type": "stream",
     "text": [
      "None\n",
      "<re.Match object; span=(0, 1), match='x'>\n",
      "x\n"
     ]
    }
   ],
   "source": [
    "import re\n",
    "## Podemos notar como no hay un retorno. (No hay coincidencia)\n",
    "result = re.search(r\"aza\", \"maze\")\n",
    "print(result) # None sin coincidencia\n",
    "\n",
    "\n",
    "print(re.search(r\"^x\", \"xenon\"))  # Nos devuelve el objeto re.Match\n",
    "\n",
    "result2 = re.search(r\"^x\",\"xenon\") \n",
    "print(result2[0]) #Nos la busqueda el valor del parámetro match en re.Match\n"
   ]
  },
  {
   "cell_type": "code",
   "execution_count": null,
   "id": "0e535936",
   "metadata": {},
   "outputs": [
    {
     "name": "stdout",
     "output_type": "stream",
     "text": [
      "<re.Match object; span=(0, 4), match='peng'>\n"
     ]
    }
   ],
   "source": [
    "import re\n",
    "print(re.search(r\"p.ng\", \"penguin\")) # En el match retorna el patron de busqueda con el reservado \".\" sustituido por la letra donde correspondiente a la palabra donde encontó el patron. \n",
    "\n",
    "# print(re.search(r\"p.ng\", \"penguin\")) \n",
    "# returns => <re.Match object; span=(0, 4), match='peng'>\n",
    "\n",
    "# print(re.search(r\"p.ng\", \"punged\"))\n",
    "# returns => <re.Match object; span=(0, 4), match='pung'>\n",
    "\n",
    "# print(re.search(r\"p.ng\", \"pang\"))\n",
    "# returns => <re.Match object; span=(0, 4), match='pang'>\n",
    "# Ojo no está retornando la palabra sino el patron con la letra sustituida. En este caso hay coincidencia. \n"
   ]
  },
  {
   "cell_type": "code",
   "execution_count": null,
   "id": "435dab84",
   "metadata": {},
   "outputs": [
    {
     "name": "stdout",
     "output_type": "stream",
     "text": [
      "<re.Match object; span=(4, 8), match='ping'>\n",
      "<re.Match object; span=(1, 5), match='pong'>\n"
     ]
    }
   ],
   "source": [
    "# Ejemplos adicionales.\n",
    "import re\n",
    "print(re.search(r\"p.ng\", \"clapping\"))\n",
    "print(re.search(r\"p.ng\", \"sponge\"))"
   ]
  },
  {
   "cell_type": "markdown",
   "id": "7d8bbdbc",
   "metadata": {},
   "source": [
    "## Utilización del caracter reservado . multiples veces. \n",
    "```python\n",
    "import re\n",
    "def check_aei (text):\n",
    "  result = re.search(r\"a.e.i\", text)\n",
    "  return result != None\n",
    "\n",
    "print(check_aei(\"academia\")) # True\n",
    "print(check_aei(\"aerial\")) # False\n",
    "print(check_aei(\"paramedic\")) # True\n",
    "```\n",
    "\n",
    "Notemos que buscamos si existen un patron \"a.e.i\" es decir \"a(una letra)e(otra letra)i\n",
    "Si se obtiene un patron vamos a obtener un objeto del tipo re.Match , que es diferente a None. Por lo tanto la función en este caso retornará **True**\n",
    "\n",
    "Podemos intuir que estos son los patrones: \n",
    "1. ademi\n",
    "2. None\n",
    "3. amedi\n",
    "\n",
    "En efecto: \n",
    "\n",
    "```python\n",
    "# Modificando el método anterior tenemos: \n",
    "def check_aei (text):\n",
    "  result = re.search(r\"a.e.i\", text)\n",
    "  return (result != None, result)\n",
    "\n",
    "print(check_aei(\"academia\")) # True\n",
    "print(check_aei(\"aerial\")) # False\n",
    "print(check_aei(\"paramedic\")) # True\n",
    "```\n",
    "\n",
    "Nos retorna en efecto los patrones que habiamos previsto. \n",
    "\n",
    "```bash\n",
    "(True, <re.Match object; span=(2, 7), match='ademi'>)\n",
    "(False, None)\n",
    "(True, <re.Match object; span=(3, 8), match='amedi'>)\n",
    "```"
   ]
  },
  {
   "cell_type": "code",
   "execution_count": null,
   "id": "0f427540",
   "metadata": {},
   "outputs": [],
   "source": [
    "import re\n",
    "print(re.search(r\"p.ng\", \"Pangaea\", re.IGNORECASE))\n",
    "\n",
    "## re.IGNORECASE Permite que no haya ninguna distinción entre mayusculas y minusculas.  "
   ]
  }
 ],
 "metadata": {
  "kernelspec": {
   "display_name": "Python 3",
   "language": "python",
   "name": "python3"
  },
  "language_info": {
   "codemirror_mode": {
    "name": "ipython",
    "version": 3
   },
   "file_extension": ".py",
   "mimetype": "text/x-python",
   "name": "python",
   "nbconvert_exporter": "python",
   "pygments_lexer": "ipython3",
   "version": "3.12.5"
  }
 },
 "nbformat": 4,
 "nbformat_minor": 5
}
