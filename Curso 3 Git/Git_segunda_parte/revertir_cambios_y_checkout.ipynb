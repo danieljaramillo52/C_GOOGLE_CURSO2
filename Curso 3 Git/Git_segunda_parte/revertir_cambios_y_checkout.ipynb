{
 "cells": [
  {
   "cell_type": "markdown",
   "id": "a293c419",
   "metadata": {},
   "source": [
    "## **Revertir cambios**\n",
    "\n",
    "**git checkout archivo.py**\n",
    "\n",
    " Podemos volver a un estado anterior de nuestro archivo ya que no nos interesa un cambio que quizas cometimos por error y rompio nuestro script: \n",
    "\n",
    " Supongamos el archivo \n",
    "\n",
    " all_check.py \n",
    "\n",
    "```python\n",
    "#!/usr/bin/env python3\n",
    "import os\n",
    "import sys\n",
    "\n",
    "def check_reboot():\n",
    "    \"\"\"Returns True if the computer has a pending reboot.\"\"\"\n",
    "    return os.path.exists(\"/run/reboot-required\")\n",
    "\n",
    "def main():\n",
    "    if check_reboot():\n",
    "        print(\"Pending Reboot.\")\n",
    "        sys.exit(1)\n",
    "        \n",
    "main()\n",
    "```\n",
    "\n",
    "Realicemos un cambio que destroza el funcionamiento del archivo como eliminar una importación: \n",
    "\n",
    "``` python\n",
    "#!/usr/bin/env python3\n",
    "import sys\n",
    "\n",
    "def check_reboot():\n",
    "    \"\"\"Returns True if the computer has a pending reboot.\"\"\"\n",
    "    return os.path.exists(\"/run/reboot-required\")\n",
    "\n",
    "def main():\n",
    "    if check_reboot():\n",
    "        print(\"Pending Reboot.\")\n",
    "        sys.exit(1)\n",
    "        \n",
    "main()\n",
    "```\n",
    "\n"
   ]
  },
  {
   "cell_type": "markdown",
   "id": "708eff96",
   "metadata": {},
   "source": [
    "**Ahora procedamos ejecutar.**\n",
    "\n",
    "```bash\n",
    "\n",
    "$ ./all_checks.py (Ejecutamos desde la terminal de bash)\n",
    "\n",
    "Traceback (most recent call last):\n",
    "  File \"C:\\Users\\ovejo\\Documents\\Xpert-group\\Cursos XpertGroup\\Certificacion GOOGLE automatizacion python\\C_GOOGLE_CURSOS\\Curso 3 Git\\Git_segunda_parte\\all_checks.py\", line 14, in <module>\n",
    "    main()\n",
    "  File \"C:\\Users\\ovejo\\Documents\\Xpert-group\\Cursos XpertGroup\\Certificacion GOOGLE automatizacion python\\C_GOOGLE_CURSOS\\Curso 3 Git\\Git_segunda_parte\\all_checks.py\", line 10, in main\n",
    "    if check_reboot():\n",
    "  File \"C:\\Users\\ovejo\\Documents\\Xpert-group\\Cursos XpertGroup\\Certificacion GOOGLE automatizacion python\\C_GOOGLE_CURSOS\\Curso 3 Git\\Git_segunda_parte\\all_checks.py\", line 7, in check_reboot\n",
    "    return os.path.exists(\"/run/reboot-required\")\n",
    "NameError: name 'os' is not defined\n",
    "```\n"
   ]
  },
  {
   "cell_type": "markdown",
   "id": "f0e3849f",
   "metadata": {},
   "source": [
    "### **Volver al estado anterior del último commit guarado de este archivo**"
   ]
  },
  {
   "cell_type": "markdown",
   "id": "5f8bca53",
   "metadata": {
    "vscode": {
     "languageId": "plaintext"
    }
   },
   "source": [
    "# ✅ Git: Diferencias entre `checkout`, `switch` y `restore`\n",
    "\n",
    "Desde Git 2.23, se introdujeron los comandos `git switch` y `git restore` para **hacer más claro el uso** que antes se concentraba solo en `git checkout`.\n",
    "\n",
    "---\n",
    "\n",
    "## 🔄 Comparativa rápida\n",
    "\n",
    "| Acción                                 | Comando moderno        | ¿`checkout` aún sirve? |\n",
    "|----------------------------------------|------------------------|-------------------------|\n",
    "| Cambiar de rama                        | `git switch <rama>`    | ✅ Sí                   |\n",
    "| Restaurar archivo (deshacer cambios)   | `git restore <archivo>`| ✅ Sí                   |\n",
    "| Restaurar archivo del staging (`git add`) | `git restore --staged <archivo>` | ✅ Sí        |\n",
    "\n",
    "---\n",
    "\n",
    "## ✅ Ejemplos prácticos\n",
    "\n",
    "### Cambiar de rama\n",
    "```bash\n",
    "git switch main         # ✅ Recomendado\n",
    "git checkout main       # También válido\n",
    "```\n",
    "\n",
    "## **Descartar cambios en archivo (working directory)**\n",
    "\n",
    "git restore archivo.py        # ✅ Recomendado\n",
    "\n",
    "git checkout -- archivo.py    # También válido\n",
    "\n",
    "\n",
    "## **Quitar archivo del staging (deshacer git add)**\n",
    "\n",
    "git restore --staged archivo.py"
   ]
  },
  {
   "cell_type": "markdown",
   "id": "3beaa7ec",
   "metadata": {},
   "source": [
    "## **Git revert. revertir la última confirmación**\n",
    "\n",
    "Supongamos que ya hicimos un commit. El commit viene de algo que está equivocado por ejemplo la instancia de una función que no está definida. Pero ya hicimos el commit.  para eso utilizamos **git revert**\n",
    "\n",
    "Podriamos decir que es como hacer una correción retornando a la copia pero generando ya un commit que explique la correción."
   ]
  },
  {
   "cell_type": "markdown",
   "id": "a083cb29",
   "metadata": {
    "vscode": {
     "languageId": "plaintext"
    }
   },
   "source": [
    "### **Ejemplo completo** "
   ]
  },
  {
   "cell_type": "markdown",
   "id": "e08f9ae8",
   "metadata": {},
   "source": [
    "Tenemos el archivo **all_checks.py**\n",
    "\n",
    "```python\n",
    "#!/usr/bin/env python3\n",
    "import os\n",
    "import sys\n",
    "\n",
    "def check_reboot():\n",
    "    \"\"\"Returns True if the computer has a pending reboot.\"\"\"\n",
    "    return os.path.exists(\"/run/reboot-required\")\n",
    "\n",
    "def main():\n",
    "    if check_reboot():\n",
    "        print(\"Pending Reboot.\")\n",
    "        sys.exit(1)\n",
    "\n",
    "    if disk_full():\n",
    "        print(\"Disk Full\")\n",
    "        sys.exit(1)\n",
    "main()\n",
    "```\n",
    "\n",
    "Podemos notar que estamos haciendo la llamada de la función **``disk_full``** sin importarla ni haberla definido en este script. Por lo tanto fallará. Pero no nos damos cuenta y hacemos un commit. \n"
   ]
  },
  {
   "cell_type": "markdown",
   "id": "8c2649e1",
   "metadata": {
    "vscode": {
     "languageId": "plaintext"
    }
   },
   "source": [
    "```bash\n",
    "\n",
    "git add all_checks.py\n",
    "\n",
    "git commit -m \"Agregado el control confirmación de disco lleno\"\n",
    "```\n",
    "\n",
    "Podemos decir que nuestro código quedó comprometido."
   ]
  },
  {
   "cell_type": "markdown",
   "id": "547c4a30",
   "metadata": {},
   "source": [
    "### **Podemos probar nuestro codigo para indentificar el problema.** \n",
    "\n",
    "Si ejecutamos el script:\n",
    "\n",
    "**python3 all_checks.py**\n",
    "\n",
    "```bash\n",
    "Traceback (most recent call last):\n",
    "  File \"C:\\Users\\ovejo\\Documents\\Xpert-group\\Cursos XpertGroup\\Certificacion GOOGLE automatizacion python\\C_GOOGLE_CURSOS\\Curso 3 Git\\Git_segunda_parte\\all_checks.py\", line 18, in <module>\n",
    "    main()\n",
    "  File \"C:\\Users\\ovejo\\Documents\\Xpert-group\\Cursos XpertGroup\\Certificacion GOOGLE automatizacion python\\C_GOOGLE_CURSOS\\Curso 3 Git\\Git_segunda_parte\\all_checks.py\", line 14, in main\n",
    "    if disk_full():\n",
    "NameError: name 'disk_full' is not defined\n",
    "```\n"
   ]
  },
  {
   "cell_type": "markdown",
   "id": "2d41f85d",
   "metadata": {},
   "source": [
    "### **Usar git revert Head**\n",
    "\n",
    "```bash\n",
    "git revert HEAD\n",
    "```\n",
    "\n"
   ]
  },
  {
   "cell_type": "markdown",
   "id": "bc850fe3",
   "metadata": {},
   "source": [
    "### **Ejecución**\n",
    "\n",
    "Abre el editor de git predeterminado para actualizar el commit anterior y volver a la versión funcional del archivo , para luego corregir\"\n",
    "\n",
    "```python\n",
    "Revert \"Agregado el control confirmación de disco lleno\"\n",
    "\n",
    "#Agregamos una nueva descripción con la explicación de por qué hacemos el revert\"\n",
    "Se realiza debido a que el método disk_usage()\n",
    "No estaba correctamente definido, y debe ser,\n",
    "definido o importado. \n",
    "\n",
    "This reverts commit 4056d844e3248cc0c3b4b1aad092827155937e52.\n",
    "\n",
    "# Please enter the commit message for your changes. Lines starting\n",
    "# with '#' will be ignored, and an empty message aborts the commit.\n",
    "#\n",
    "# On branch main\n",
    "# Your branch is ahead of 'origin/main' by 1 commit.\n",
    "#   (use \"git push\" to publish your local commits)\n",
    "#\n",
    "# Changes to be committed:\n",
    "#\tmodified:   Curso 3 Git/Git_segunda_parte/all_checks.py\n",
    "#\n",
    "# Changes not staged for commit:\n",
    "#\tmodified:   .gitignore\n",
    "#\tdeleted:    Curso 3 Git/Configuracion_git/Iniciales_git.ipynb\n",
    "#\tdeleted:    Curso 3 Git/Configuracion_git/disk_usage.py\n",
    "#\n",
    "# Untracked files:\n",
    "#\t\"Curso 3 Git/Configuracion_git_comandos_b\\303\\241sicos/\"\n",
    "#\tCurso 3 Git/Git_segunda_parte/revertir_cambios.ipynb\n",
    "#\n",
    "```\n"
   ]
  },
  {
   "cell_type": "markdown",
   "id": "a4d83cf3",
   "metadata": {},
   "source": [
    "### **Consulta del revert.**\n",
    "Utilizamos el comando \n",
    "\n",
    "**git log -p -2** (Recordemos que -p nos sirve para ver los parches)\n",
    "\n",
    "```bash\n",
    "commit e5de57d1269715cd9aeed7db7d4d217b6a3a63bb (HEAD -> main)\n",
    "Author: daniel.jaramillo24 <daniel.jaramillo24@udea.edu.co>\n",
    "Date:   Tue Jun 17 22:41:54 2025 -0500\n",
    "\n",
    "    Revert \"Agregado el control confirmación de disco lleno\"\n",
    "    \n",
    "    Se realiza debido a que el método disk_usage()\n",
    "    No estaba correctamente definido, y debe ser,\n",
    "    definido o importado.\n",
    "    \n",
    "    This reverts commit 4056d844e3248cc0c3b4b1aad092827155937e52.\n",
    ":\n",
    "```\n",
    "\n",
    "Adicional a esto volvemos a la instatanea del commit previo al daño. \n",
    "\n",
    "\n",
    "```python\n",
    "#!/usr/bin/env python3\n",
    "\n",
    "import os\n",
    "import sys\n",
    "\n",
    "def check_reboot():\n",
    "    \"\"\"Returns True if the computer has a pending reboot.\"\"\"\n",
    "    return os.path.exists(\"/run/reboot-required\")\n",
    "\n",
    "def main():\n",
    "    if check_reboot():\n",
    "        print(\"Pending Reboot.\")\n",
    "        sys.exit(1)\n",
    "\n",
    "main()\n",
    "```\n"
   ]
  },
  {
   "cell_type": "markdown",
   "id": "8f42f5ae",
   "metadata": {},
   "source": [
    "#### **Importante: Lo que hace (git revert HEAD) es un commit inverso al commit anterior pero el registro de ambos commits queda disaponible, es una correción no una eliminación**"
   ]
  },
  {
   "cell_type": "markdown",
   "id": "57ab3ac5",
   "metadata": {},
   "source": [
    "---"
   ]
  },
  {
   "cell_type": "markdown",
   "id": "d7b750c2",
   "metadata": {},
   "source": [
    "### **Uso git revert usando un commit diferente a HEAD**\n",
    "\n",
    "(Usamos el id de confirmación.)\n",
    "\n",
    "```sh\n",
    "**``git revert 744cdf879964854``** (id)\n",
    "```\n",
    "\n",
    "---"
   ]
  },
  {
   "cell_type": "markdown",
   "id": "612e10ed",
   "metadata": {},
   "source": [
    "## **Consulta formato resumen  historial commits** \n",
    "```sh\n",
    "git log --oneline\n",
    "```\n",
    "\n",
    "---"
   ]
  },
  {
   "cell_type": "markdown",
   "id": "fcec203d",
   "metadata": {},
   "source": [
    "## **Retornar partes de un commit**\n",
    "\n",
    "### **(ejm: un solo directorio al estado de un commit anterior)**\n",
    "\n",
    "\n",
    "```sh\n",
    "git checkout <numero_commit> -- directorio1\n",
    "```\n",
    "\n",
    "Permite retornar solo el directorio1 a su versión del commit anteiror \n",
    "\n",
    "Recordar que debemos confirmar este cambio: \n",
    "\n",
    "```sh\n",
    "git add directorio1\n",
    "git commit -m \"Revertir directorio1 a su versión en commit <numero_commit>\"\n",
    "```"
   ]
  }
 ],
 "metadata": {
  "language_info": {
   "name": "python"
  }
 },
 "nbformat": 4,
 "nbformat_minor": 5
}
