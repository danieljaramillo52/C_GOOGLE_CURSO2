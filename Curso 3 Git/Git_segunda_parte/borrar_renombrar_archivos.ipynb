{
 "cells": [
  {
   "cell_type": "markdown",
   "id": "a94ddffc",
   "metadata": {},
   "source": [
    "### **Borrar y renombrar archivos en git**"
   ]
  },
  {
   "cell_type": "markdown",
   "id": "0129be71",
   "metadata": {},
   "source": [
    "#### **Eliminar un archivo del repo local**\n",
    "\n",
    "Queremos eliminar algunos scripts / archivos del repositorio con el comando. \n",
    "\n",
    "(Estamos hablando de **``repositorio local``** todavia.)\n",
    "\n",
    "**git rm archivo_a_eliminar.py** Borrar el archivo del directorio. \n",
    "\n",
    "Debemos hacer un ``commit`` para confirmar el cambio en el estado. \n"
   ]
  },
  {
   "cell_type": "markdown",
   "id": "45389189",
   "metadata": {},
   "source": [
    "#### **Renombrar un archivo en el repostorio local**\n",
    "\n",
    "OJO los archivos y directorios ya deben estar rastreados por git para que esto funcione.\n",
    "Podemos renombrar un archivo así \n",
    "\n",
    "**``git mv`` archivo_nombre_viejo.py archivo_nombre_nuevo.py**\n",
    "\n",
    "**``git mv`` directorio1 directorio2**"
   ]
  },
  {
   "cell_type": "markdown",
   "id": "adb8a0ec",
   "metadata": {},
   "source": [
    "- mkdir directorio1\n",
    "\n",
    "- git add directorio1\n",
    "\n",
    "- git rm directorio1 directorio2"
   ]
  }
 ],
 "metadata": {
  "kernelspec": {
   "display_name": "Python 3",
   "language": "python",
   "name": "python3"
  },
  "language_info": {
   "codemirror_mode": {
    "name": "ipython",
    "version": 3
   },
   "file_extension": ".py",
   "mimetype": "text/x-python",
   "name": "python",
   "nbconvert_exporter": "python",
   "pygments_lexer": "ipython3",
   "version": "3.10.11"
  }
 },
 "nbformat": 4,
 "nbformat_minor": 5
}
