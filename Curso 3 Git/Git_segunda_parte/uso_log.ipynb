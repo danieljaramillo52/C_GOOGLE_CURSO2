{
 "cells": [
  {
   "cell_type": "markdown",
   "id": "ed7b0148",
   "metadata": {},
   "source": [
    "## **Uso de regitros comando log**\n"
   ]
  },
  {
   "cell_type": "markdown",
   "id": "9218240c",
   "metadata": {
    "vscode": {
     "languageId": "plaintext"
    }
   },
   "source": [
    "**git log** Menaje simple con author, fecha del cambio y commit. \n"
   ]
  },
  {
   "cell_type": "markdown",
   "id": "c63ea932",
   "metadata": {
    "vscode": {
     "languageId": "plaintext"
    }
   },
   "source": [
    "git log -u : Podemos ver los cambios reales del repositorio. Completos desplazandons por todos muy util para ver cambios más extensos. \n"
   ]
  },
  {
   "cell_type": "markdown",
   "id": "332cbc7f",
   "metadata": {},
   "source": [
    "**``git show``**: Permite ver el commit completo con sus modifcaciones usando el id de los registros del commit, este ide lo podemos consultar en el historial al utilizar **git log**"
   ]
  },
  {
   "cell_type": "markdown",
   "id": "f76150d4",
   "metadata": {},
   "source": [
    "### **EJEMPLO:**\n",
    "\n",
    "ejecutamos **git log** y obtenemos el hihstorial. Tomando un commit separado tenemos: \n",
    "\n",
    "\"\"\"commit 5615b3a6788924aab52233c7ec51f990ff42bdb4 (origin/main, origin/HEAD)\n",
    "\n",
    "Merge: 15ee39c a3304fc\n",
    "\n",
    "Author: danieljaramillo52 <daniel.jaramillo@xpertgroup.co>\n",
    "\n",
    "Date:   Mon Jun 16 18:31:25 2025 -0500\n",
    "\n",
    "Archivos añadidos\"\"\"\n",
    "\n",
    "\n",
    "**Tomando su id: podemos consultar la información especifica del commit.**\n",
    "\n",
    "**``git show 5615b3a6788924aab52233c7ec51f990ff42bdb4``**"
   ]
  },
  {
   "cell_type": "markdown",
   "id": "5062cf24",
   "metadata": {},
   "source": [
    "**git diff** Podemos ver las diferencias entre los archivos."
   ]
  }
 ],
 "metadata": {
  "language_info": {
   "name": "python"
  }
 },
 "nbformat": 4,
 "nbformat_minor": 5
}
