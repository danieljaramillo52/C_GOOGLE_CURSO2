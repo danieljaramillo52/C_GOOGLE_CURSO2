{
 "cells": [
  {
   "cell_type": "markdown",
   "id": "cced4ed8",
   "metadata": {},
   "source": [
    "## **Configuración básica git**"
   ]
  },
  {
   "cell_type": "markdown",
   "id": "d39d4826",
   "metadata": {
    "vscode": {
     "languageId": "plaintext"
    }
   },
   "source": [
    "### **Loggear credencial repositorio local.**\n",
    "\n",
    "- git config --global user.email \"emagil de git\"\n",
    "\n",
    "- git config --global user.name \"usuario de git\" \n"
   ]
  },
  {
   "cell_type": "markdown",
   "id": "858eb8af",
   "metadata": {},
   "source": [
    "### **Inicalizar un repositorio local**\n",
    "\n",
    "**git init** (Crear un repositorio de git)"
   ]
  },
  {
   "cell_type": "markdown",
   "id": "bd4d1dd8",
   "metadata": {},
   "source": [
    "### **Arbol de trabajo actual**\n",
    "\n",
    "- git status => Estado del arbol de trabajo actual. "
   ]
  },
  {
   "cell_type": "markdown",
   "id": "8023c989",
   "metadata": {},
   "source": [
    "### **Anadir un cambio al indice para ser rastreado**\n",
    "1. **git add** archivo.py\n",
    "\n",
    "2. **git add** archivo.txt\n",
    "\n",
    "(Podemos añadir cualquier tipo de archivo individualmente, y así podremos rastrearlo)\n",
    "\n",
    "**git add .** (Añade todos los archivos actualmente en status)"
   ]
  },
  {
   "cell_type": "markdown",
   "id": "eaf8bb6e",
   "metadata": {},
   "source": [
    "### **Confirmación** \n",
    "1. **git commit** -m \"Me.saje de confirmación para todo lo agregado en: (git add previamente)"
   ]
  },
  {
   "cell_type": "markdown",
   "id": "0693e19a",
   "metadata": {},
   "source": [
    "### **Estados de archivos**\n",
    "\n",
    "1. `Modificado : modified (archivo.) : Rojo`\n",
    "\n",
    "No se ha almacenado ningun cambio / solo está detectado. Podemos verlo en **git status** modified, lo que aparezca modificado. \n",
    "\n",
    "2. `Rastreado :  modified (archivo. ) : Verde`\n",
    "\n",
    "Luego de realizar un **git add archivo** el archivo en cuestión estará siendo rastreado, esto implica que ya los cambios están ``registrados`` mas no ``confirmados``\n",
    "\n",
    "3. `Confirmado : **Tree clean**`\n",
    "\n",
    "Cuando realizamos un **git commit -m \"Mensaje de confirmación\"** todo lo que teniamos en el estado de añadido pasa a ser parte del repositorio. \n",
    "Si consultamos con **git status** nos confirmará que tenemos el arbol de **trabajo limpio**"
   ]
  },
  {
   "cell_type": "markdown",
   "id": "74752850",
   "metadata": {},
   "source": [
    "### **Utilización del commit.** \n",
    "\n",
    "Podemos hacer un commit simple utilizando:\n",
    "\n",
    "- **git commit -m** \"Mensaje de confirmación\" \n",
    "\n",
    "O un commit completo usando: \n",
    "\n",
    "- **git commit** Esto despliega el editor de codigo de nuestra preferencia para añadir un mensaje más extenso y descriptivo. \n",
    "\n",
    "- **git commit -a**  Si ya tenemos un archivo en el add alguna ves podemos usar el atajo para evitar el git add primero, si nunca a sido rastreado entonces no podremos usarlo sin antes un **git add**\n",
    "\n",
    "#### **Como debe ser un mensaje de confirmación.**\n",
    "`Una breve descripciión del cambio (Hasta 50 caracteres), seguida de una linea en blanco, y a continuación, uno o varios párrafos con mas detalle del cambio (si es necesario). Cada linea del parrafo o párrafos detallados debe tener menos de 72 caracteres`"
   ]
  },
  {
   "cell_type": "markdown",
   "id": "e40af91b",
   "metadata": {},
   "source": [
    "### **Git log.**\n",
    "\n",
    "Mostrar historial de commits. \n"
   ]
  }
 ],
 "metadata": {
  "language_info": {
   "name": "python"
  }
 },
 "nbformat": 4,
 "nbformat_minor": 5
}
