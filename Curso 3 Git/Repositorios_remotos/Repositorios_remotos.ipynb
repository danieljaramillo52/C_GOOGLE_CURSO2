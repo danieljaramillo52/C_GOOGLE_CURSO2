{
 "cells": [
  {
   "cell_type": "markdown",
   "id": "3025a4b8",
   "metadata": {},
   "source": [
    "## **Repositorios remotos**"
   ]
  },
  {
   "cell_type": "markdown",
   "id": "5697d9d2",
   "metadata": {},
   "source": [
    "Al clonar un repositorio remoto con **``glit clone``** Podemos podemos ver dos direcciones una para push y otra para pull utilizando el comando **``git remote -v``**\n",
    "\n",
    "```bash \n",
    "ovejo@Daniel_Jara MINGW64 ~/Documents/Xpert-group/Cursos XpertGroup/Certificacion GOOGLE automatizacion python/C_GOOGLE_CURSOS (main)\n",
    "$ git remote -v\n",
    "origin  https://github.com/danieljaramillo52/C_GOOGLE_CURSO2.git (fetch)\n",
    "origin  https://github.com/danieljaramillo52/C_GOOGLE_CURSO2.git (push)\n",
    "```\n",
    "\n",
    "Depende de la llave de acceso podemos usar los diferentes tipos de llaves HTTP para leer y SSH/HTTPS para insertar. "
   ]
  },
  {
   "cell_type": "markdown",
   "id": "4edaf4af",
   "metadata": {},
   "source": [
    "### **Ramas remotas.**\n",
    "\n",
    "Podemos ver las ramas remotas usadas por git utilizando **``git branch -r``**\n",
    "\n",
    "```bash\n",
    "ovejo@Daniel_Jara MINGW64 ~/Documents/Xpert-group/Cursos XpertGroup/Certificacion GOOGLE automatizacion python/C_GOOGLE_CURSOS (main)\n",
    "$ git branch -r\n",
    "  origin/HEAD -> origin/main\n",
    "  origin/main\n",
    "```\n",
    "\n",
    "#### **Passos para hacer un cambio en una rama remota.**\n",
    " \n",
    "1. Hacer un pull de la rama remota.  **```git pull origin main``**\n",
    "\n",
    "2. merge with the local branch (Hacer un add y commit para sincronizar cambios).\n",
    "\n",
    "3. Hacer un **``git push origin main``** de vuelta-\n",
    "\n",
    "#### **Git status**\n",
    "\n",
    "Permite tambien ver el estado de los repositorios remotos como hemos venido trabajando. \n"
   ]
  },
  {
   "cell_type": "markdown",
   "id": "288dd722",
   "metadata": {},
   "source": [
    "## Estado del repostiroi local respecto al repostirio remoto. \n",
    "\n",
    "Usando:  **``git remote show origin``**\n",
    "\n",
    "```bash\n",
    "$ git remote show origin\n",
    "* remote origin\n",
    "  Fetch URL: https://github.com/danieljaramillo52/C_GOOGLE_CURSO2.git\n",
    "  Push  URL: https://github.com/danieljaramillo52/C_GOOGLE_CURSO2.git\n",
    "  HEAD branch: main\n",
    "  Remote branch:\n",
    "    main tracked\n",
    "  Local branch configured for 'git pull':\n",
    "    main merges with remote main\n",
    "  Local ref configured for 'git push':\n",
    "    main pushes to main (up to date)\n",
    "```\n",
    "\n",
    "Actualmente todo está subido, supongamos que alguien hace un cambio en el repositorio remoto (Un colaborardor).\n",
    "\n",
    "```bash \n",
    "ovejo@Daniel_Jara MINGW64 ~/Documents/Xpert-group/Cursos XpertGroup/Certificacion GOOGLE automatizacion python/C_GOOGLE_CURSOS (main)\n",
    "$ git remote show origin\n",
    "* remote origin\n",
    "  Fetch URL: https://github.com/danieljaramillo52/C_GOOGLE_CURSO2.git\n",
    "  Push  URL: https://github.com/danieljaramillo52/C_GOOGLE_CURSO2.git\n",
    "  HEAD branch: main\n",
    "  Remote branch:\n",
    "    main tracked\n",
    "  Local branch configured for 'git pull':\n",
    "    main merges with remote main\n",
    "  Local ref configured for 'git push':\n",
    "    main pushes to main (local out of date)\n",
    "```\n",
    "\n",
    "Podemos ver la diferencia: \n",
    "\n",
    "```bash\n",
    "  Local ref configured for 'git push':\n",
    "    main pushes to main (up to date)\n",
    "\n",
    "y\n",
    "\n",
    "  Local ref configured for 'git push':\n",
    "    main pushes to main (local out of date)\n",
    "``` \n",
    "\n",
    "Indicando que hay cambios en el remoto no sincronizados con nuestro repo local. \n"
   ]
  }
 ],
 "metadata": {
  "language_info": {
   "name": "python"
  }
 },
 "nbformat": 4,
 "nbformat_minor": 5
}
