{
 "cells": [
  {
   "cell_type": "markdown",
   "id": "1b079b77",
   "metadata": {},
   "source": [
    "## **Revisores de código**\n",
    "\n",
    "Herramientas para revisar el código que utilizamos en el dia.\n",
    "\n",
    "Herramientas de revisión de código en git hub. \n",
    "Podemos ver el editor del pull request con los comentarios de editores. Que nos pueden ser útiles"
   ]
  },
  {
   "cell_type": "code",
   "execution_count": null,
   "id": "9f50bb17",
   "metadata": {
    "vscode": {
     "languageId": "shellscript"
    }
   },
   "outputs": [],
   "source": [
    "# Edición de un commit ya existente. \n",
    "\n",
    "\"\"\"Podemos editar utilizando bandera --amend\"\"\"\n",
    "git add .\n",
    "git commit --amend"
   ]
  },
  {
   "cell_type": "markdown",
   "id": "6c7ad3c1",
   "metadata": {},
   "source": [
    "Utilizar el mécanismo anterior puede tener consecuencias, como una divergencia de la rama main al modificar el commit con ``git commit --amend``\n",
    "\n",
    "Un status nos mostrará la divergencia. \n",
    "\n",
    "```bash \n",
    "On branch main\n",
    "Your branch and 'origin/main' have diverged,\n",
    "and have 1 and 1 different commits each, respectively.\n",
    "  (use \"git pull\" to merge the remote branch into yours)\n",
    "\n",
    "nothing to commit, working tree clean\n",
    "```\n",
    "\n",
    "Alternativas: Utilización de "
   ]
  }
 ],
 "metadata": {
  "language_info": {
   "name": "python"
  }
 },
 "nbformat": 4,
 "nbformat_minor": 5
}
