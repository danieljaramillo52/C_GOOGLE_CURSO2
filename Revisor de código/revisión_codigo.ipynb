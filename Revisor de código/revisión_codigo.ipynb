{
 "cells": [
  {
   "cell_type": "markdown",
   "id": "1b079b77",
   "metadata": {},
   "source": [
    "## **Revisores de código**\n",
    "\n",
    "Herramientas para revisar el código que utilizamos en el dia.\n",
    "\n",
    "Herramientas de revisión de código en git hub. \n",
    "Podemos ver el editor del pull request con los comentarios de editores. Que nos pueden ser útiles"
   ]
  },
  {
   "cell_type": "code",
   "execution_count": null,
   "id": "9f50bb17",
   "metadata": {
    "vscode": {
     "languageId": "shellscript"
    }
   },
   "outputs": [],
   "source": [
    "# Edición de un commit ya existente. \n",
    "\n",
    "\"\"\"Podemos editar utilizando bandera --amend\"\"\"\n",
    "git add .\n",
    "git commit --amend\n"
   ]
  }
 ],
 "metadata": {
  "language_info": {
   "name": "python"
  }
 },
 "nbformat": 4,
 "nbformat_minor": 5
}
